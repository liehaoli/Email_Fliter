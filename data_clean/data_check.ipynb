{
 "cells": [
  {
   "cell_type": "code",
   "execution_count": 1,
   "id": "1122ffad-b372-4038-8a59-fbe064bd2ef0",
   "metadata": {},
   "outputs": [],
   "source": [
    "import pandas as pd"
   ]
  },
  {
   "cell_type": "code",
   "execution_count": 8,
   "id": "79b57175-082f-44b0-b1a1-e615e3bde76b",
   "metadata": {},
   "outputs": [
    {
     "data": {
      "text/html": [
       "<div>\n",
       "<style scoped>\n",
       "    .dataframe tbody tr th:only-of-type {\n",
       "        vertical-align: middle;\n",
       "    }\n",
       "\n",
       "    .dataframe tbody tr th {\n",
       "        vertical-align: top;\n",
       "    }\n",
       "\n",
       "    .dataframe thead th {\n",
       "        text-align: right;\n",
       "    }\n",
       "</style>\n",
       "<table border=\"1\" class=\"dataframe\">\n",
       "  <thead>\n",
       "    <tr style=\"text-align: right;\">\n",
       "      <th></th>\n",
       "      <th>content</th>\n",
       "      <th>label</th>\n",
       "    </tr>\n",
       "  </thead>\n",
       "  <tbody>\n",
       "    <tr>\n",
       "      <th>0</th>\n",
       "      <td>公司名称：合展实业有限公司</td>\n",
       "      <td>1</td>\n",
       "    </tr>\n",
       "    <tr>\n",
       "      <th>1</th>\n",
       "      <td>尊敬的客户您好！我们是北京腾禄科技发展有限公司，是专业生产商业工业级条形码系列设备及RFID...</td>\n",
       "      <td>1</td>\n",
       "    </tr>\n",
       "    <tr>\n",
       "      <th>2</th>\n",
       "      <td>Google右边关键词广告价格大揭秘:你正在考虑做Google右边关键词广告吗?你得到的报价...</td>\n",
       "      <td>1</td>\n",
       "    </tr>\n",
       "    <tr>\n",
       "      <th>3</th>\n",
       "      <td>1、八路军军帽上的军徽应该是两颗纽扣上有12角星，刻意的抹去是不尊重历史。我曾经在互联网上看...</td>\n",
       "      <td>0</td>\n",
       "    </tr>\n",
       "    <tr>\n",
       "      <th>4</th>\n",
       "      <td>报失：楼宇51532153钱包972黑色钱包，内有身份证，两张银行卡，两张书店卡，约82元钱...</td>\n",
       "      <td>0</td>\n",
       "    </tr>\n",
       "    <tr>\n",
       "      <th>...</th>\n",
       "      <td>...</td>\n",
       "      <td>...</td>\n",
       "    </tr>\n",
       "    <tr>\n",
       "      <th>51691</th>\n",
       "      <td>国务院台湾事务办公室9月28日上午10时，在国台办新闻发布厅举行例行新闻发布会。以下为发布会...</td>\n",
       "      <td>0</td>\n",
       "    </tr>\n",
       "    <tr>\n",
       "      <th>51692</th>\n",
       "      <td>国家公办大学文凭，2年制英语专升本热招中!截止9月１２号下午５点!报名从速!参加全国成人高考...</td>\n",
       "      <td>1</td>\n",
       "    </tr>\n",
       "    <tr>\n",
       "      <th>51693</th>\n",
       "      <td>尊敬的客户：一直觉得你销售的产品不错。可是大家都说最近生意难做，你那儿还好吗？是不是觉得营销...</td>\n",
       "      <td>1</td>\n",
       "    </tr>\n",
       "    <tr>\n",
       "      <th>51694</th>\n",
       "      <td>贵公司负责人＜经理/财务＞您好！我是深圳市步步顺实业有限公司的，由于我司进项较多，实力雄厚！...</td>\n",
       "      <td>1</td>\n",
       "    </tr>\n",
       "    <tr>\n",
       "      <th>51695</th>\n",
       "      <td>上海-巴黎4700（45天往返）上海-洛山机4450（6个月往返）上海-俄罗斯4100（6个...</td>\n",
       "      <td>1</td>\n",
       "    </tr>\n",
       "  </tbody>\n",
       "</table>\n",
       "<p>51696 rows × 2 columns</p>\n",
       "</div>"
      ],
      "text/plain": [
       "                                                 content  label\n",
       "0                                          公司名称：合展实业有限公司      1\n",
       "1      尊敬的客户您好！我们是北京腾禄科技发展有限公司，是专业生产商业工业级条形码系列设备及RFID...      1\n",
       "2      Google右边关键词广告价格大揭秘:你正在考虑做Google右边关键词广告吗?你得到的报价...      1\n",
       "3      1、八路军军帽上的军徽应该是两颗纽扣上有12角星，刻意的抹去是不尊重历史。我曾经在互联网上看...      0\n",
       "4      报失：楼宇51532153钱包972黑色钱包，内有身份证，两张银行卡，两张书店卡，约82元钱...      0\n",
       "...                                                  ...    ...\n",
       "51691  国务院台湾事务办公室9月28日上午10时，在国台办新闻发布厅举行例行新闻发布会。以下为发布会...      0\n",
       "51692  国家公办大学文凭，2年制英语专升本热招中!截止9月１２号下午５点!报名从速!参加全国成人高考...      1\n",
       "51693  尊敬的客户：一直觉得你销售的产品不错。可是大家都说最近生意难做，你那儿还好吗？是不是觉得营销...      1\n",
       "51694  贵公司负责人＜经理/财务＞您好！我是深圳市步步顺实业有限公司的，由于我司进项较多，实力雄厚！...      1\n",
       "51695  上海-巴黎4700（45天往返）上海-洛山机4450（6个月往返）上海-俄罗斯4100（6个...      1\n",
       "\n",
       "[51696 rows x 2 columns]"
      ]
     },
     "execution_count": 8,
     "metadata": {},
     "output_type": "execute_result"
    }
   ],
   "source": [
    "pd.read_csv('/home/u2021213473/jupyterlab/Email_filter/Bert/data/train.csv', encoding_errors='ignore')"
   ]
  },
  {
   "cell_type": "code",
   "execution_count": 9,
   "id": "c1ba042d-0125-4c61-b9fa-053bcf67fefa",
   "metadata": {},
   "outputs": [
    {
     "data": {
      "text/html": [
       "<div>\n",
       "<style scoped>\n",
       "    .dataframe tbody tr th:only-of-type {\n",
       "        vertical-align: middle;\n",
       "    }\n",
       "\n",
       "    .dataframe tbody tr th {\n",
       "        vertical-align: top;\n",
       "    }\n",
       "\n",
       "    .dataframe thead th {\n",
       "        text-align: right;\n",
       "    }\n",
       "</style>\n",
       "<table border=\"1\" class=\"dataframe\">\n",
       "  <thead>\n",
       "    <tr style=\"text-align: right;\">\n",
       "      <th></th>\n",
       "      <th>content</th>\n",
       "      <th>label</th>\n",
       "    </tr>\n",
       "  </thead>\n",
       "  <tbody>\n",
       "    <tr>\n",
       "      <th>0</th>\n",
       "      <td>公司名称：合展实业有限公司</td>\n",
       "      <td>1</td>\n",
       "    </tr>\n",
       "    <tr>\n",
       "      <th>1</th>\n",
       "      <td>尊敬的客户您好！我们是北京腾禄科技发展有限公司，是专业生产商业工业级条形码系列设备及RFID...</td>\n",
       "      <td>1</td>\n",
       "    </tr>\n",
       "    <tr>\n",
       "      <th>2</th>\n",
       "      <td>Google右边关键词广告价格大揭秘:你正在考虑做Google右边关键词广告吗?你得到的报价...</td>\n",
       "      <td>1</td>\n",
       "    </tr>\n",
       "    <tr>\n",
       "      <th>3</th>\n",
       "      <td>1、八路军军帽上的军徽应该是两颗纽扣上有12角星，刻意的抹去是不尊重历史。我曾经在互联网上看...</td>\n",
       "      <td>0</td>\n",
       "    </tr>\n",
       "    <tr>\n",
       "      <th>4</th>\n",
       "      <td>报失：楼宇51532153钱包972黑色钱包，内有身份证，两张银行卡，两张书店卡，约82元钱...</td>\n",
       "      <td>0</td>\n",
       "    </tr>\n",
       "    <tr>\n",
       "      <th>...</th>\n",
       "      <td>...</td>\n",
       "      <td>...</td>\n",
       "    </tr>\n",
       "    <tr>\n",
       "      <th>49185</th>\n",
       "      <td>国务院台湾事务办公室9月28日上午10时，在国台办新闻发布厅举行例行新闻发布会。以下为发布会...</td>\n",
       "      <td>0</td>\n",
       "    </tr>\n",
       "    <tr>\n",
       "      <th>49186</th>\n",
       "      <td>国家公办大学文凭，2年制英语专升本热招中!截止9月１２号下午５点!报名从速!参加全国成人高考...</td>\n",
       "      <td>1</td>\n",
       "    </tr>\n",
       "    <tr>\n",
       "      <th>49187</th>\n",
       "      <td>尊敬的客户：一直觉得你销售的产品不错。可是大家都说最近生意难做，你那儿还好吗？是不是觉得营销...</td>\n",
       "      <td>1</td>\n",
       "    </tr>\n",
       "    <tr>\n",
       "      <th>49188</th>\n",
       "      <td>贵公司负责人＜经理/财务＞您好！我是深圳市步步顺实业有限公司的，由于我司进项较多，实力雄厚！...</td>\n",
       "      <td>1</td>\n",
       "    </tr>\n",
       "    <tr>\n",
       "      <th>49189</th>\n",
       "      <td>上海-巴黎4700（45天往返）上海-洛山机4450（6个月往返）上海-俄罗斯4100（6个...</td>\n",
       "      <td>1</td>\n",
       "    </tr>\n",
       "  </tbody>\n",
       "</table>\n",
       "<p>49190 rows × 2 columns</p>\n",
       "</div>"
      ],
      "text/plain": [
       "                                                 content  label\n",
       "0                                          公司名称：合展实业有限公司      1\n",
       "1      尊敬的客户您好！我们是北京腾禄科技发展有限公司，是专业生产商业工业级条形码系列设备及RFID...      1\n",
       "2      Google右边关键词广告价格大揭秘:你正在考虑做Google右边关键词广告吗?你得到的报价...      1\n",
       "3      1、八路军军帽上的军徽应该是两颗纽扣上有12角星，刻意的抹去是不尊重历史。我曾经在互联网上看...      0\n",
       "4      报失：楼宇51532153钱包972黑色钱包，内有身份证，两张银行卡，两张书店卡，约82元钱...      0\n",
       "...                                                  ...    ...\n",
       "49185  国务院台湾事务办公室9月28日上午10时，在国台办新闻发布厅举行例行新闻发布会。以下为发布会...      0\n",
       "49186  国家公办大学文凭，2年制英语专升本热招中!截止9月１２号下午５点!报名从速!参加全国成人高考...      1\n",
       "49187  尊敬的客户：一直觉得你销售的产品不错。可是大家都说最近生意难做，你那儿还好吗？是不是觉得营销...      1\n",
       "49188  贵公司负责人＜经理/财务＞您好！我是深圳市步步顺实业有限公司的，由于我司进项较多，实力雄厚！...      1\n",
       "49189  上海-巴黎4700（45天往返）上海-洛山机4450（6个月往返）上海-俄罗斯4100（6个...      1\n",
       "\n",
       "[49190 rows x 2 columns]"
      ]
     },
     "execution_count": 9,
     "metadata": {},
     "output_type": "execute_result"
    }
   ],
   "source": [
    "pd.read_csv('/home/u2021213473/jupyterlab/Email_filter/Bert/data/filtered_train.csv', encoding_errors='ignore')"
   ]
  },
  {
   "cell_type": "code",
   "execution_count": 6,
   "id": "54f28d50-54c5-4c1d-962b-db03b4311602",
   "metadata": {},
   "outputs": [
    {
     "name": "stdout",
     "output_type": "stream",
     "text": [
      "平均字长为: 486.0595984215413\n"
     ]
    }
   ],
   "source": [
    "import pandas as pd\n",
    "\n",
    "# 加载数据\n",
    "data = pd.read_csv('/home/u2021213473/jupyterlab/Email_filter/Bert/data/train.csv')  # 请将'your_file.csv'替换成你的文件路径\n",
    "\n",
    "# 使用try-except结构确保安全计算每个文本的长度，并处理非字符串条目\n",
    "average_length = data['content'].apply(lambda x: len(x) if isinstance(x, str) else 0).mean()\n",
    "\n",
    "print(\"平均字长为:\", average_length)\n"
   ]
  },
  {
   "cell_type": "code",
   "execution_count": 3,
   "id": "5e3b6fee-75a6-4e9f-a595-a2d9cfa64818",
   "metadata": {},
   "outputs": [
    {
     "name": "stdout",
     "output_type": "stream",
     "text": [
      "已保存过滤后的数据到 '/home/u2021213473/jupyterlab/Email_filter/Bert/data/filtered_train.csv'\n"
     ]
    }
   ],
   "source": [
    "import pandas as pd\n",
    "\n",
    "# 加载数据\n",
    "data = pd.read_csv('/home/u2021213473/jupyterlab/Email_filter/Bert/data/train.csv')  # 请将'your_file.csv'替换成你的文件路径\n",
    "\n",
    "# 过滤掉非字符串的内容\n",
    "filtered_data = data[data['content'].apply(lambda x: isinstance(x, str))]\n",
    "\n",
    "# 保存过滤后的数据到新的CSV文件\n",
    "filtered_data.to_csv('/home/u2021213473/jupyterlab/Email_filter/Bert/data/filtered_train.csv', index=False)  # 不保存行索引到文件\n",
    "\n",
    "print(\"已保存过滤后的数据到 '/home/u2021213473/jupyterlab/Email_filter/Bert/data/filtered_train.csv'\")\n"
   ]
  },
  {
   "cell_type": "code",
   "execution_count": 4,
   "id": "504145b1-1f70-4876-af3a-b90050994390",
   "metadata": {},
   "outputs": [
    {
     "name": "stdout",
     "output_type": "stream",
     "text": [
      "已保存过滤后的数据到 '/home/u2021213473/jupyterlab/Email_filter/Bert/data/filtered_test.csv'\n"
     ]
    }
   ],
   "source": [
    "import pandas as pd\n",
    "\n",
    "# 加载数据\n",
    "data = pd.read_csv('/home/u2021213473/jupyterlab/Email_filter/Bert/data/test.csv')  # 请将'your_file.csv'替换成你的文件路径\n",
    "\n",
    "# 过滤掉非字符串的内容\n",
    "filtered_data = data[data['content'].apply(lambda x: isinstance(x, str))]\n",
    "\n",
    "# 保存过滤后的数据到新的CSV文件\n",
    "filtered_data.to_csv('/home/u2021213473/jupyterlab/Email_filter/Bert/data/filtered_test.csv', index=False)  # 不保存行索引到文件\n",
    "\n",
    "print(\"已保存过滤后的数据到 '/home/u2021213473/jupyterlab/Email_filter/Bert/data/filtered_test.csv'\")\n"
   ]
  },
  {
   "cell_type": "code",
   "execution_count": 7,
   "id": "3de9ab27-1dc0-4306-96b5-ee9d9c74fe9b",
   "metadata": {},
   "outputs": [
    {
     "name": "stdout",
     "output_type": "stream",
     "text": [
      "平均字长为: 510.82205732872535\n"
     ]
    }
   ],
   "source": [
    "import pandas as pd\n",
    "\n",
    "# 加载数据\n",
    "data = pd.read_csv('/home/u2021213473/jupyterlab/Email_filter/Bert/data/filtered_train.csv')  # 请将'your_file.csv'替换成你的文件路径\n",
    "\n",
    "# 使用try-except结构确保安全计算每个文本的长度，并处理非字符串条目\n",
    "average_length = data['content'].apply(lambda x: len(x) if isinstance(x, str) else 0).mean()\n",
    "\n",
    "print(\"平均字长为:\", average_length)\n"
   ]
  },
  {
   "cell_type": "code",
   "execution_count": null,
   "id": "cf5c43ef-6a9b-4d88-8179-8e5357222c2f",
   "metadata": {},
   "outputs": [],
   "source": []
  }
 ],
 "metadata": {
  "kernelspec": {
   "display_name": "Python 3 (ipykernel)",
   "language": "python",
   "name": "python3"
  },
  "language_info": {
   "codemirror_mode": {
    "name": "ipython",
    "version": 3
   },
   "file_extension": ".py",
   "mimetype": "text/x-python",
   "name": "python",
   "nbconvert_exporter": "python",
   "pygments_lexer": "ipython3",
   "version": "3.9.15"
  }
 },
 "nbformat": 4,
 "nbformat_minor": 5
}
